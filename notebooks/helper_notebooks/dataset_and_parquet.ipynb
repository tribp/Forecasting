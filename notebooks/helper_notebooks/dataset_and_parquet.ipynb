{
 "cells": [
  {
   "cell_type": "code",
   "execution_count": null,
   "metadata": {},
   "outputs": [],
   "source": [
    "# Datasets and Parquet"
   ]
  },
  {
   "cell_type": "markdown",
   "metadata": {},
   "source": [
    "**TOC:**\n",
    "\n",
    "1. Reading and writing Parquet\n",
    "2. Resampling 15min data"
   ]
  },
  {
   "cell_type": "markdown",
   "metadata": {},
   "source": [
    "## 1. Reading and writing Parquet"
   ]
  },
  {
   "cell_type": "markdown",
   "metadata": {},
   "source": [
    "**Context: PRO and CON of Parquet** \n",
    "\n",
    "**PRO**<BR>\n",
    "- saves data types, not like csv where everything is a string\n",
    "- compression results in 2 upto 10 times smaller  than csv\n",
    "- faster: Parquet store data in columns rather than rows, enabling selective reading only relevant data."
   ]
  },
  {
   "cell_type": "code",
   "execution_count": 2,
   "metadata": {},
   "outputs": [
    {
     "name": "stdout",
     "output_type": "stream",
     "text": [
      "Python version: 3.11.9 | packaged by conda-forge | (main, Apr 19 2024, 18:34:54) [Clang 16.0.6 ]\n",
      "pandas version: 2.2.2\n",
      "numpy version: 1.26.4\n",
      "pyarrow version: 17.0.0\n"
     ]
    }
   ],
   "source": [
    "import sys\n",
    "from pathlib import Path\n",
    "import pandas as pd\n",
    "import numpy as np\n",
    "import pyarrow\n",
    "\n",
    "print(f'Python version: {sys.version}')\n",
    "print(f'pandas version: {pd.__version__}')\n",
    "print(f'numpy version: {np.__version__}')\n",
    "print(f'pyarrow version: {pyarrow.__version__}')"
   ]
  },
  {
   "cell_type": "code",
   "execution_count": 4,
   "metadata": {},
   "outputs": [
    {
     "data": {
      "text/html": [
       "<div>\n",
       "<style scoped>\n",
       "    .dataframe tbody tr th:only-of-type {\n",
       "        vertical-align: middle;\n",
       "    }\n",
       "\n",
       "    .dataframe tbody tr th {\n",
       "        vertical-align: top;\n",
       "    }\n",
       "\n",
       "    .dataframe thead th {\n",
       "        text-align: right;\n",
       "    }\n",
       "</style>\n",
       "<table border=\"1\" class=\"dataframe\">\n",
       "  <thead>\n",
       "    <tr style=\"text-align: right;\">\n",
       "      <th></th>\n",
       "      <th>datetime</th>\n",
       "      <th>resolutioncode</th>\n",
       "      <th>totalload</th>\n",
       "      <th>mostrecentforecast</th>\n",
       "      <th>mostrecentconfidence10</th>\n",
       "      <th>mostrecentconfidence90</th>\n",
       "      <th>dayaheadforecast</th>\n",
       "      <th>dayaheadconfidence10</th>\n",
       "      <th>dayaheadconfidence90</th>\n",
       "      <th>weekaheadforecast</th>\n",
       "    </tr>\n",
       "  </thead>\n",
       "  <tbody>\n",
       "    <tr>\n",
       "      <th>0</th>\n",
       "      <td>2025-01-27 23:45:00+01:00</td>\n",
       "      <td>PT15M</td>\n",
       "      <td>NaN</td>\n",
       "      <td>9592.2</td>\n",
       "      <td>9180.97</td>\n",
       "      <td>10003.43</td>\n",
       "      <td>9592.2</td>\n",
       "      <td>9180.97</td>\n",
       "      <td>10003.43</td>\n",
       "      <td>9592.2</td>\n",
       "    </tr>\n",
       "    <tr>\n",
       "      <th>1</th>\n",
       "      <td>2025-01-27 23:30:00+01:00</td>\n",
       "      <td>PT15M</td>\n",
       "      <td>NaN</td>\n",
       "      <td>9642.1</td>\n",
       "      <td>9228.73</td>\n",
       "      <td>10055.47</td>\n",
       "      <td>9642.1</td>\n",
       "      <td>9228.73</td>\n",
       "      <td>10055.47</td>\n",
       "      <td>9642.1</td>\n",
       "    </tr>\n",
       "  </tbody>\n",
       "</table>\n",
       "</div>"
      ],
      "text/plain": [
       "                   datetime resolutioncode  totalload  mostrecentforecast  \\\n",
       "0 2025-01-27 23:45:00+01:00          PT15M        NaN              9592.2   \n",
       "1 2025-01-27 23:30:00+01:00          PT15M        NaN              9642.1   \n",
       "\n",
       "   mostrecentconfidence10  mostrecentconfidence90  dayaheadforecast  \\\n",
       "0                 9180.97                10003.43            9592.2   \n",
       "1                 9228.73                10055.47            9642.1   \n",
       "\n",
       "   dayaheadconfidence10  dayaheadconfidence90  weekaheadforecast  \n",
       "0               9180.97              10003.43             9592.2  \n",
       "1               9228.73              10055.47             9642.1  "
      ]
     },
     "execution_count": 4,
     "metadata": {},
     "output_type": "execute_result"
    }
   ],
   "source": [
    "# Step 0: Define the paths\n",
    "file_path_read = 'https://raw.githubusercontent.com/tribp/Forecasting/main/datasets/Elia/ods001.parquet'\n",
    "file_path_save ='Elia_2015-2024.parquet'\n",
    "\n",
    "# Step 1: Load the Parquet file into a DataFrame\n",
    "df = pd.read_parquet(file_path_read)\n",
    "df.head(2)"
   ]
  },
  {
   "cell_type": "code",
   "execution_count": null,
   "metadata": {},
   "outputs": [],
   "source": [
    "# Step 2: Ensure the 'Datetime' column is in datetime format\n",
    "df['datetime'] = pd.to_datetime(df['datetime'])\n",
    "\n",
    "# Step 3: Filter the DataFrame for rows until 1st January 2025\n",
    "df_filtered = df[df['datetime'] < '2025-01-01']\n",
    "\n",
    "# Step 4: Reset the index of the DataFrame\n",
    "df_filtered.reset_index(drop=True, inplace=True)\n",
    "\n",
    "# Step 5: Save the filtered DataFrame back to a new Parquet file\n",
    "df_filtered.to_parquet(file_path_save)"
   ]
  },
  {
   "cell_type": "code",
   "execution_count": 15,
   "metadata": {},
   "outputs": [
    {
     "data": {
      "text/html": [
       "<div>\n",
       "<style scoped>\n",
       "    .dataframe tbody tr th:only-of-type {\n",
       "        vertical-align: middle;\n",
       "    }\n",
       "\n",
       "    .dataframe tbody tr th {\n",
       "        vertical-align: top;\n",
       "    }\n",
       "\n",
       "    .dataframe thead th {\n",
       "        text-align: right;\n",
       "    }\n",
       "</style>\n",
       "<table border=\"1\" class=\"dataframe\">\n",
       "  <thead>\n",
       "    <tr style=\"text-align: right;\">\n",
       "      <th></th>\n",
       "      <th>datetime</th>\n",
       "      <th>resolutioncode</th>\n",
       "      <th>totalload</th>\n",
       "      <th>mostrecentforecast</th>\n",
       "      <th>mostrecentconfidence10</th>\n",
       "      <th>mostrecentconfidence90</th>\n",
       "      <th>dayaheadforecast</th>\n",
       "      <th>dayaheadconfidence10</th>\n",
       "      <th>dayaheadconfidence90</th>\n",
       "      <th>weekaheadforecast</th>\n",
       "    </tr>\n",
       "  </thead>\n",
       "  <tbody>\n",
       "    <tr>\n",
       "      <th>0</th>\n",
       "      <td>2024-12-31 23:45:00+01:00</td>\n",
       "      <td>PT15M</td>\n",
       "      <td>8593.73</td>\n",
       "      <td>8258.90</td>\n",
       "      <td>8015.84</td>\n",
       "      <td>8501.96</td>\n",
       "      <td>8780.26</td>\n",
       "      <td>8325.54</td>\n",
       "      <td>9234.99</td>\n",
       "      <td>8645.52</td>\n",
       "    </tr>\n",
       "    <tr>\n",
       "      <th>1</th>\n",
       "      <td>2024-12-31 23:30:00+01:00</td>\n",
       "      <td>PT15M</td>\n",
       "      <td>8697.44</td>\n",
       "      <td>8364.12</td>\n",
       "      <td>8117.97</td>\n",
       "      <td>8610.27</td>\n",
       "      <td>8892.03</td>\n",
       "      <td>8431.52</td>\n",
       "      <td>9352.55</td>\n",
       "      <td>8759.77</td>\n",
       "    </tr>\n",
       "    <tr>\n",
       "      <th>2</th>\n",
       "      <td>2024-12-31 23:15:00+01:00</td>\n",
       "      <td>PT15M</td>\n",
       "      <td>8774.47</td>\n",
       "      <td>8445.72</td>\n",
       "      <td>8197.17</td>\n",
       "      <td>8694.27</td>\n",
       "      <td>8978.79</td>\n",
       "      <td>8513.78</td>\n",
       "      <td>9443.79</td>\n",
       "      <td>8852.59</td>\n",
       "    </tr>\n",
       "    <tr>\n",
       "      <th>3</th>\n",
       "      <td>2024-12-31 23:00:00+01:00</td>\n",
       "      <td>PT15M</td>\n",
       "      <td>8858.48</td>\n",
       "      <td>8542.78</td>\n",
       "      <td>8291.37</td>\n",
       "      <td>8794.19</td>\n",
       "      <td>9081.96</td>\n",
       "      <td>8611.61</td>\n",
       "      <td>9552.31</td>\n",
       "      <td>8952.74</td>\n",
       "    </tr>\n",
       "    <tr>\n",
       "      <th>4</th>\n",
       "      <td>2024-12-31 22:45:00+01:00</td>\n",
       "      <td>PT15M</td>\n",
       "      <td>8861.50</td>\n",
       "      <td>8982.02</td>\n",
       "      <td>8736.12</td>\n",
       "      <td>9227.92</td>\n",
       "      <td>9059.75</td>\n",
       "      <td>8599.72</td>\n",
       "      <td>9519.79</td>\n",
       "      <td>8925.19</td>\n",
       "    </tr>\n",
       "  </tbody>\n",
       "</table>\n",
       "</div>"
      ],
      "text/plain": [
       "                   datetime resolutioncode  totalload  mostrecentforecast  \\\n",
       "0 2024-12-31 23:45:00+01:00          PT15M    8593.73             8258.90   \n",
       "1 2024-12-31 23:30:00+01:00          PT15M    8697.44             8364.12   \n",
       "2 2024-12-31 23:15:00+01:00          PT15M    8774.47             8445.72   \n",
       "3 2024-12-31 23:00:00+01:00          PT15M    8858.48             8542.78   \n",
       "4 2024-12-31 22:45:00+01:00          PT15M    8861.50             8982.02   \n",
       "\n",
       "   mostrecentconfidence10  mostrecentconfidence90  dayaheadforecast  \\\n",
       "0                 8015.84                 8501.96           8780.26   \n",
       "1                 8117.97                 8610.27           8892.03   \n",
       "2                 8197.17                 8694.27           8978.79   \n",
       "3                 8291.37                 8794.19           9081.96   \n",
       "4                 8736.12                 9227.92           9059.75   \n",
       "\n",
       "   dayaheadconfidence10  dayaheadconfidence90  weekaheadforecast  \n",
       "0               8325.54               9234.99            8645.52  \n",
       "1               8431.52               9352.55            8759.77  \n",
       "2               8513.78               9443.79            8852.59  \n",
       "3               8611.61               9552.31            8952.74  \n",
       "4               8599.72               9519.79            8925.19  "
      ]
     },
     "execution_count": 15,
     "metadata": {},
     "output_type": "execute_result"
    }
   ],
   "source": [
    "df_filtered.head()"
   ]
  },
  {
   "cell_type": "code",
   "execution_count": 16,
   "metadata": {},
   "outputs": [
    {
     "data": {
      "text/plain": [
       "<bound method NDFrame.head of                         datetime resolutioncode  totalload  \\\n",
       "0      2024-12-31 23:45:00+01:00          PT15M    8593.73   \n",
       "1      2024-12-31 23:30:00+01:00          PT15M    8697.44   \n",
       "2      2024-12-31 23:15:00+01:00          PT15M    8774.47   \n",
       "3      2024-12-31 23:00:00+01:00          PT15M    8858.48   \n",
       "4      2024-12-31 22:45:00+01:00          PT15M    8861.50   \n",
       "...                          ...            ...        ...   \n",
       "350683 2015-01-01 01:00:00+01:00          PT15M    9755.00   \n",
       "350684 2015-01-01 00:45:00+01:00          PT15M    9821.78   \n",
       "350685 2015-01-01 00:30:00+01:00          PT15M    9952.87   \n",
       "350686 2015-01-01 00:15:00+01:00          PT15M   10051.28   \n",
       "350687 2015-01-01 00:00:00+01:00          PT15M   10142.19   \n",
       "\n",
       "        mostrecentforecast  mostrecentconfidence10  mostrecentconfidence90  \\\n",
       "0                  8258.90                 8015.84                 8501.96   \n",
       "1                  8364.12                 8117.97                 8610.27   \n",
       "2                  8445.72                 8197.17                 8694.27   \n",
       "3                  8542.78                 8291.37                 8794.19   \n",
       "4                  8982.02                 8736.12                 9227.92   \n",
       "...                    ...                     ...                     ...   \n",
       "350683             9222.33                 8880.23                 9564.44   \n",
       "350684             9025.46                 8432.07                 9618.85   \n",
       "350685             9174.72                 8571.51                 9777.92   \n",
       "350686             9329.17                 8715.80                 9942.53   \n",
       "350687             9496.05                 8871.71                10120.38   \n",
       "\n",
       "        dayaheadforecast  dayaheadconfidence10  dayaheadconfidence90  \\\n",
       "0                8780.26               8325.54               9234.99   \n",
       "1                8892.03               8431.52               9352.55   \n",
       "2                8978.79               8513.78               9443.79   \n",
       "3                9081.96               8611.61               9552.31   \n",
       "4                9059.75               8599.72               9519.79   \n",
       "...                  ...                   ...                   ...   \n",
       "350683          10130.36               9777.87              10482.86   \n",
       "350684           9216.09               8625.97               9806.20   \n",
       "350685           9367.66               8767.84               9967.47   \n",
       "350686           9526.54               8916.55              10136.53   \n",
       "350687           9697.59               9076.64              10318.53   \n",
       "\n",
       "        weekaheadforecast  \n",
       "0                 8645.52  \n",
       "1                 8759.77  \n",
       "2                 8852.59  \n",
       "3                 8952.74  \n",
       "4                 8925.19  \n",
       "...                   ...  \n",
       "350683            9203.25  \n",
       "350684            9319.45  \n",
       "350685            9473.22  \n",
       "350686            9653.31  \n",
       "350687            9833.37  \n",
       "\n",
       "[350688 rows x 10 columns]>"
      ]
     },
     "execution_count": 16,
     "metadata": {},
     "output_type": "execute_result"
    }
   ],
   "source": [
    "df = pd.read_parquet(file_path_save)\n",
    "df.head()"
   ]
  },
  {
   "cell_type": "code",
   "execution_count": 17,
   "metadata": {},
   "outputs": [
    {
     "name": "stdout",
     "output_type": "stream",
     "text": [
      "datetime                  datetime64[ms, Europe/Brussels]\n",
      "resolutioncode                                     object\n",
      "totalload                                         float64\n",
      "mostrecentforecast                                float64\n",
      "mostrecentconfidence10                            float64\n",
      "mostrecentconfidence90                            float64\n",
      "dayaheadforecast                                  float64\n",
      "dayaheadconfidence10                              float64\n",
      "dayaheadconfidence90                              float64\n",
      "weekaheadforecast                                 float64\n",
      "dtype: object\n",
      "datetime                  datetime64[ms, Europe/Brussels]\n",
      "resolutioncode                                     object\n",
      "totalload                                         float64\n",
      "mostrecentforecast                                float64\n",
      "mostrecentconfidence10                            float64\n",
      "mostrecentconfidence90                            float64\n",
      "dayaheadforecast                                  float64\n",
      "dayaheadconfidence10                              float64\n",
      "dayaheadconfidence90                              float64\n",
      "weekaheadforecast                                 float64\n",
      "dtype: object\n"
     ]
    }
   ],
   "source": [
    "print(df.dtypes)\n",
    "print(df_filtered.dtypes)"
   ]
  },
  {
   "cell_type": "markdown",
   "metadata": {},
   "source": [
    "# 2. Resampling 15min data"
   ]
  },
  {
   "cell_type": "markdown",
   "metadata": {},
   "source": [
    "## 2.1 We need a new file that contains all daily maxima of the 15min values"
   ]
  },
  {
   "cell_type": "code",
   "execution_count": 38,
   "metadata": {},
   "outputs": [],
   "source": [
    "# Step 0: Define the paths\n",
    "file_path_read = 'https://raw.githubusercontent.com/tribp/Forecasting/main/datasets/Elia/Elia_2015-2024.parquet'\n",
    "file_path_save ='Elia_2015-2024_daily_max.parquet'\n",
    "\n",
    "# Step 1: Load the Parquet file into a DataFramed\n",
    "df_daily_max = pd.read_parquet(file_path_read)\n",
    "#print(df_monthly.head(2))\n",
    "\n",
    "# Step 2: Set the 'datetime' column as the index\n",
    "df_daily_max.set_index('datetime', inplace=True)\n",
    "\n",
    "# Step 3: delete all columns except 'datetime'(Index), 'totalload' and mostrecentforecast'\n",
    "df_daily_max = df_daily_max[['totalload', 'mostrecentforecast']]\n",
    "\n",
    "# Step 4: Resample the DataFrame to a daily frequency that holds the daily maximum\n",
    "df_daily_max = df_daily_max.resample('D').max()\n",
    "df_daily_max.head(2)\n",
    "\n",
    "# Step 5: Save the resampled DataFrame back to a new Parquet file\n",
    "df_daily_max.to_parquet(file_path_save)\n",
    "\n",
    "\n",
    "\n"
   ]
  },
  {
   "cell_type": "markdown",
   "metadata": {},
   "source": [
    "## 2.2 Read and check daily maxima file"
   ]
  },
  {
   "cell_type": "code",
   "execution_count": null,
   "metadata": {},
   "outputs": [],
   "source": [
    "# Step 0: Define the paths\n",
    "file_path_read = 'https://raw.githubusercontent.com/tribp/Forecasting/main/datasets/Elia/Elia_2015-2024_daily_max.parquet'\n",
    "\n",
    "# Step 1: Load the Parquet file into a DataFramed\n",
    "df_daily_max = pd.read_parquet(file_path_read)\n",
    "df_daily_max.head(2)"
   ]
  }
 ],
 "metadata": {
  "kernelspec": {
   "display_name": "forecasting",
   "language": "python",
   "name": "python3"
  },
  "language_info": {
   "codemirror_mode": {
    "name": "ipython",
    "version": 3
   },
   "file_extension": ".py",
   "mimetype": "text/x-python",
   "name": "python",
   "nbconvert_exporter": "python",
   "pygments_lexer": "ipython3",
   "version": "3.11.9"
  }
 },
 "nbformat": 4,
 "nbformat_minor": 2
}
